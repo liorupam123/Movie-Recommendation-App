{
 "cells": [
  {
   "cell_type": "code",
   "execution_count": 1,
   "id": "404d5afd",
   "metadata": {},
   "outputs": [
    {
     "name": "stdout",
     "output_type": "stream",
     "text": [
      "Requirement already satisfied: scikit-surprise in /data1/students/anaconda3/lib/python3.12/site-packages (1.1.4)\n",
      "Requirement already satisfied: joblib>=1.2.0 in /data1/students/anaconda3/lib/python3.12/site-packages (from scikit-surprise) (1.4.2)\n",
      "Requirement already satisfied: numpy>=1.19.5 in /data1/students/anaconda3/lib/python3.12/site-packages (from scikit-surprise) (1.26.4)\n",
      "Requirement already satisfied: scipy>=1.6.0 in /data1/students/anaconda3/lib/python3.12/site-packages (from scikit-surprise) (1.13.1)\n",
      "Note: you may need to restart the kernel to use updated packages.\n"
     ]
    }
   ],
   "source": [
    "pip install scikit-surprise"
   ]
  },
  {
   "cell_type": "code",
   "execution_count": 4,
   "id": "54f29586",
   "metadata": {},
   "outputs": [
    {
     "name": "stdout",
     "output_type": "stream",
     "text": [
      "Model training complete.\n",
      "Recommendations for User 2:\n",
      "['Usual Suspects, The (1995)', 'Touch of Evil (1958)', 'Evil Dead II (Dead by Dawn) (1987)', 'Boondock Saints, The (2000)', 'Eternal Sunshine of the Spotless Mind (2004)']\n",
      "\n",
      "Saved collaborative model and data files successfully!\n"
     ]
    }
   ],
   "source": [
    "# Cell 1: Import Libraries\n",
    "import pandas as pd\n",
    "from surprise import Reader, Dataset, SVD\n",
    "import joblib\n",
    "\n",
    "# ---\n",
    "\n",
    "# Cell 2: Load and Prepare Data\n",
    "ratings = pd.read_csv('/data1/students/rupam/Self_Project/Movie_Recommendation/csv/ratings.csv')\n",
    "movies = pd.read_csv('/data1/students/rupam/Self_Project/Movie_Recommendation/csv/movies.csv')\n",
    "\n",
    "# The 'surprise' library needs data in a specific format (user, item, rating).\n",
    "# Our 'ratings' dataframe is already in this format.\n",
    "reader = Reader(rating_scale=(0.5, 5.0))\n",
    "data = Dataset.load_from_df(ratings[['userId', 'movieId', 'rating']], reader)\n",
    "\n",
    "# ---\n",
    "\n",
    "# Cell 3: Train the Model\n",
    "# We'll use Singular Value Decomposition (SVD), a popular matrix factorization technique.\n",
    "trainset = data.build_full_trainset()\n",
    "model = SVD()\n",
    "model.fit(trainset)\n",
    "\n",
    "print(\"Model training complete.\")\n",
    "\n",
    "# ---\n",
    "\n",
    "# Cell 4: Create a Recommendation Function (for testing)\n",
    "def get_recommendations(user_id, n=10):\n",
    "    # Get a list of all movie IDs\n",
    "    all_movie_ids = ratings['movieId'].unique()\n",
    "    \n",
    "    # Get a list of movie IDs that the user has already rated\n",
    "    rated_movie_ids = ratings[ratings['userId'] == user_id]['movieId'].unique()\n",
    "    \n",
    "    # Get a list of movies the user has NOT rated\n",
    "    unrated_movie_ids = [movie_id for movie_id in all_movie_ids if movie_id not in rated_movie_ids]\n",
    "    \n",
    "    # Predict ratings for all unrated movies\n",
    "    predictions = [model.predict(user_id, movie_id) for movie_id in unrated_movie_ids]\n",
    "    \n",
    "    # Sort predictions by estimated rating in descending order\n",
    "    predictions.sort(key=lambda x: x.est, reverse=True)\n",
    "    \n",
    "    # Get the top N recommendations\n",
    "    top_n_preds = predictions[:n]\n",
    "    \n",
    "    # Get the movie IDs from the top predictions\n",
    "    top_movie_ids = [pred.iid for pred in top_n_preds]\n",
    "    \n",
    "    # Get the movie titles from the IDs\n",
    "    top_movie_titles = movies[movies['movieId'].isin(top_movie_ids)]['title'].tolist()\n",
    "    \n",
    "    return top_movie_titles\n",
    "\n",
    "# Test the function for user 1\n",
    "print(\"Recommendations for User 2:\")\n",
    "print(get_recommendations(user_id=2, n=5))\n",
    "\n",
    "# ---\n",
    "\n",
    "# Cell 5: Save the Model and Data for the API\n",
    "# We need to save the trained model and the movies dataframe.\n",
    "\n",
    "# Save the trained model\n",
    "joblib.dump(model, 'collaborative_model.pkl')\n",
    "\n",
    "# Save the movies dataframe so we can map IDs to titles in the API\n",
    "movies.to_pickle('collaborative_movies.pkl')\n",
    "\n",
    "# Save the ratings dataframe to know which movies a user has seen\n",
    "ratings.to_pickle('collaborative_ratings.pkl')\n",
    "\n",
    "print(\"\\nSaved collaborative model and data files successfully!\")"
   ]
  }
 ],
 "metadata": {
  "kernelspec": {
   "display_name": "base",
   "language": "python",
   "name": "python3"
  },
  "language_info": {
   "codemirror_mode": {
    "name": "ipython",
    "version": 3
   },
   "file_extension": ".py",
   "mimetype": "text/x-python",
   "name": "python",
   "nbconvert_exporter": "python",
   "pygments_lexer": "ipython3",
   "version": "3.12.2"
  }
 },
 "nbformat": 4,
 "nbformat_minor": 5
}
